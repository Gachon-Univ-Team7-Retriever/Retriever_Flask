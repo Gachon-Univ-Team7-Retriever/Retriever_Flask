{
 "cells": [
  {
   "metadata": {},
   "cell_type": "code",
   "source": [
    "from utils import api_test\n",
    "print(api_test(\n",
    "    url=\"http://127.0.0.1:5000/telegram/channel/scrape\",\n",
    "    method=\"POST\",\n",
    "    data={\n",
    "        \"channel_key\": \"frozentalk1\"\n",
    "    }\n",
    "))"
   ],
   "id": "67e0b0a7779cc52d",
   "outputs": [],
   "execution_count": null
  },
  {
   "metadata": {},
   "cell_type": "code",
   "source": [
    "from utils import api_test\n",
    "print(api_test(\n",
    "    url=\"http://127.0.0.1:5000/watson/c\",\n",
    "    method=\"POST\",\n",
    "    data={\n",
    "        \"action\": \"ask\",\n",
    "        \"channel_ids\": [1334212632],\n",
    "        \"scope\": \"local\",\n",
    "        \"question\": \"이 채널에서 거래하는 마약류는 주로 뭐가 있어?\",\n",
    "    }\n",
    "))"
   ],
   "id": "3b18d1157128ce25",
   "outputs": [],
   "execution_count": null
  },
  {
   "metadata": {},
   "cell_type": "code",
   "source": [
    "from utils import api_test\n",
    "print(api_test(\n",
    "    url=\"http://127.0.0.1:5000/watson/c\",\n",
    "    method=\"POST\",\n",
    "    data={\n",
    "        \"action\": \"ask\",\n",
    "        \"channel_ids\": [1334212632],\n",
    "        \"scope\": \"local\",\n",
    "        \"question\": \"내가 바로 전에 질문했던 내용과 그에 대한 답변은?\",\n",
    "    }\n",
    "))"
   ],
   "id": "4b3617a1e4b264f",
   "outputs": [],
   "execution_count": null
  },
  {
   "metadata": {},
   "cell_type": "code",
   "source": [
    "from utils import api_test\n",
    "print(api_test(\n",
    "    url=\"http://127.0.0.1:5000/watson/c\",\n",
    "    method=\"POST\",\n",
    "    data={\n",
    "        \"action\": \"reset\",\n",
    "        \"channel_ids\": [1890652954],\n",
    "        \"scope\": \"local\",\n",
    "    }\n",
    "))"
   ],
   "id": "212d671103a036c4",
   "outputs": [],
   "execution_count": null
  },
  {
   "metadata": {},
   "cell_type": "code",
   "source": [
    "from utils import api_test\n",
    "print(api_test(\n",
    "    url=\"http://localhost:5000/telegram/channel/info\",\n",
    "    method=\"POST\",\n",
    "    data={\n",
    "        \"channel_key\": \"Hyde_Sandbox2\",\n",
    "    }\n",
    "))"
   ],
   "id": "5793bd05a66a195d",
   "outputs": [],
   "execution_count": null
  }
 ],
 "metadata": {
  "kernelspec": {
   "display_name": "Python 3",
   "language": "python",
   "name": "python3"
  },
  "language_info": {
   "codemirror_mode": {
    "name": "ipython",
    "version": 2
   },
   "file_extension": ".py",
   "mimetype": "text/x-python",
   "name": "python",
   "nbconvert_exporter": "python",
   "pygments_lexer": "ipython2",
   "version": "2.7.6"
  }
 },
 "nbformat": 4,
 "nbformat_minor": 5
}
