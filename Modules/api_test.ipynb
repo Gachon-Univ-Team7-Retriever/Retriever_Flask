{
 "cells": [
  {
   "cell_type": "code",
   "id": "initial_id",
   "metadata": {
    "collapsed": true,
    "ExecuteTime": {
     "end_time": "2025-02-22T14:33:21.674463Z",
     "start_time": "2025-02-22T14:33:21.661551Z"
    }
   },
   "source": [
    "from dataclasses import dataclass\n",
    "from utils import request_api\n",
    "\n",
    "def api_test(**request_kwargs):\n",
    "    response = request_api(**request_kwargs)\n",
    "    try:\n",
    "        result = response.json()\n",
    "    except Exception as e:\n",
    "        result = response.reason\n",
    "    \n",
    "    print(f\"status: {response.status_code}\")\n",
    "    print(f\"response:\")\n",
    "    if isinstance(result, dict):\n",
    "        for key, value in result.items():\n",
    "            print(f\"\\t{key}: {value}\")\n",
    "    else:\n",
    "        print(result)\n",
    "\n",
    "\n",
    "    \n"
   ],
   "outputs": [],
   "execution_count": 11
  },
  {
   "metadata": {
    "ExecuteTime": {
     "end_time": "2025-02-22T14:26:04.034687Z",
     "start_time": "2025-02-22T14:25:55.069652Z"
    }
   },
   "cell_type": "code",
   "source": [
    "api_test(\n",
    "    url=\"http://127.0.0.1:5000/watson/c\",\n",
    "    method=\"POST\",\n",
    "    data={\n",
    "        \"action\": \"ask\",\n",
    "        \"channel_ids\": [1890652954],\n",
    "        \"scope\": \"local\",\n",
    "        \"question\": \"이 채널에서 마약이 판매되는 지역은?\",\n",
    "    }\n",
    ")"
   ],
   "id": "3b18d1157128ce25",
   "outputs": [
    {
     "name": "stdout",
     "output_type": "stream",
     "text": [
      "status: 200\n",
      "response: {'answer': '마약이 판매되는 지역은 다음과 같습니다:\\n\\n- 부산\\n- 광주\\n- 창원\\n- 울산\\n- 강남\\n- 인천\\n- 수원\\n- 일산\\n- 대구\\n- 서울 및 수도권\\n- 천안\\n\\n**Source**\\n- [떨 부산 및 광주만 가능](https://t.me/frozen_talk/108)\\n- [부산 및 창원, 울산 신규 브액 달토4 판매개시](https://t.me/frozen_talk/270)\\n- [강서 지역 좌표 추가됐습니다](https://t.me/frozen_talk/44)\\n- [강남, 인천, 수원, 일산, 대구 가능](https://t.me/frozen_talk/68)\\n- [서울을 비롯한 수도권, 부산, 광주, 천안 구매 가능](https://t.me/frozen_talk/11)'}\n"
     ]
    }
   ],
   "execution_count": 8
  },
  {
   "metadata": {
    "ExecuteTime": {
     "end_time": "2025-02-22T14:33:30.971831Z",
     "start_time": "2025-02-22T14:33:24.141657Z"
    }
   },
   "cell_type": "code",
   "source": [
    "api_test(\n",
    "    url=\"http://127.0.0.1:5000/watson/c\",\n",
    "    method=\"POST\",\n",
    "    data={\n",
    "        \"action\": \"ask\",\n",
    "        \"channel_ids\": [1890652954],\n",
    "        \"scope\": \"local\",\n",
    "        \"question\": \"내가 바로 전에 질문했던 내용과 그에 대한 답변은?\",\n",
    "    }\n",
    ")"
   ],
   "id": "4b3617a1e4b264f",
   "outputs": [
    {
     "name": "stdout",
     "output_type": "stream",
     "text": [
      "status: 200\n",
      "response:\n",
      "\tanswer: 바로 전에 질문하신 내용은 \"이 채널에서 마약이 판매되는 지역은?\"이었고, 그에 대한 답변은 다음과 같습니다:\n",
      "\n",
      "마약이 판매되는 지역은 다음과 같습니다:\n",
      "\n",
      "- 부산\n",
      "- 광주\n",
      "- 창원\n",
      "- 울산\n",
      "- 강남\n",
      "- 인천\n",
      "- 수원\n",
      "- 일산\n",
      "- 대구\n",
      "- 서울 및 수도권\n",
      "- 천안\n",
      "\n",
      "**Source**\n",
      "- [떨 부산 및 광주만 가능](https://t.me/frozen_talk/108)\n",
      "- [부산 및 창원, 울산 신규 브액 달토4 판매개시](https://t.me/frozen_talk/270)\n",
      "- [강서 지역 좌표 추가됐습니다](https://t.me/frozen_talk/44)\n",
      "- [강남, 인천, 수원, 일산, 대구 가능](https://t.me/frozen_talk/68)\n",
      "- [서울을 비롯한 수도권, 부산, 광주, 천안 구매 가능](https://t.me/frozen_talk/11)\n"
     ]
    }
   ],
   "execution_count": 12
  },
  {
   "metadata": {
    "ExecuteTime": {
     "end_time": "2025-02-22T14:10:50.969904Z",
     "start_time": "2025-02-22T14:10:50.911452Z"
    }
   },
   "cell_type": "code",
   "source": [
    "api_test(\n",
    "    url=\"http://127.0.0.1:5000/watson/c\",\n",
    "    method=\"POST\",\n",
    "    data={\n",
    "        \"action\": \"reset\",\n",
    "        \"channel_ids\": [1890652954],\n",
    "        \"scope\": \"local\",\n",
    "    }\n",
    ")"
   ],
   "id": "212d671103a036c4",
   "outputs": [
    {
     "name": "stdout",
     "output_type": "stream",
     "text": [
      "status: 200\n",
      "response: {'success': True}\n"
     ]
    }
   ],
   "execution_count": 6
  }
 ],
 "metadata": {
  "kernelspec": {
   "display_name": "Python 3",
   "language": "python",
   "name": "python3"
  },
  "language_info": {
   "codemirror_mode": {
    "name": "ipython",
    "version": 2
   },
   "file_extension": ".py",
   "mimetype": "text/x-python",
   "name": "python",
   "nbconvert_exporter": "python",
   "pygments_lexer": "ipython2",
   "version": "2.7.6"
  }
 },
 "nbformat": 4,
 "nbformat_minor": 5
}
