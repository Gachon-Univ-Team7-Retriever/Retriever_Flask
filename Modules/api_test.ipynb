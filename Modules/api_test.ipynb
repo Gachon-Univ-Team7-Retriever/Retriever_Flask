{
 "cells": [
  {
   "cell_type": "code",
   "id": "initial_id",
   "metadata": {
    "collapsed": true,
    "ExecuteTime": {
     "end_time": "2025-02-17T03:42:30.554336Z",
     "start_time": "2025-02-17T03:42:30.548255Z"
    }
   },
   "source": [
    "from utils import request_api\n",
    "\n",
    "def api_test(**request_kwargs):\n",
    "    response = request_api(**request_kwargs)\n",
    "    try:\n",
    "        result = response.json()\n",
    "    except Exception as e:\n",
    "        result = response.reason\n",
    "    \n",
    "    print(f\"status: {response.status_code}\")\n",
    "    print(f\"response: {result}\")\n"
   ],
   "outputs": [],
   "execution_count": 3
  },
  {
   "metadata": {
    "ExecuteTime": {
     "end_time": "2025-02-17T05:47:15.646128Z",
     "start_time": "2025-02-17T05:47:13.481888Z"
    }
   },
   "cell_type": "code",
   "source": [
    "api_test(\n",
    "    url=\"http://127.0.0.1:5000/watson/c\",\n",
    "    method=\"POST\",\n",
    "    data={\n",
    "        \"action\": \"ask\",\n",
    "        \"channel_ids\": [1890652954],\n",
    "        \"scope\": \"local\",\n",
    "        \"question\": \"이 채널에서 마약이 판매되는 지역은?\",\n",
    "    }\n",
    ")"
   ],
   "id": "3b18d1157128ce25",
   "outputs": [
    {
     "name": "stdout",
     "output_type": "stream",
     "text": [
      "URL: http://127.0.0.1:5000/watson/c\n",
      "method: POST\n",
      "status: 200\n",
      "response: {'answer': '부산, 창원, 울산, 광주, 서울 및 수도권, 천안에서 마약이 판매되고 있는 것으로 보입니다.'}\n"
     ]
    }
   ],
   "execution_count": 26
  },
  {
   "metadata": {
    "ExecuteTime": {
     "end_time": "2025-02-17T05:56:15.068422Z",
     "start_time": "2025-02-17T05:56:12.994702Z"
    }
   },
   "cell_type": "code",
   "source": [
    "api_test(\n",
    "    url=\"http://127.0.0.1:5000/watson/c\",\n",
    "    method=\"POST\",\n",
    "    data={\n",
    "        \"action\": \"ask\",\n",
    "        \"channel_ids\": [1890652954],\n",
    "        \"scope\": \"local\",\n",
    "        \"question\": \"내가 바로 전에 질문했던 내용과 그에 대한 답변은?\",\n",
    "    }\n",
    ")"
   ],
   "id": "4b3617a1e4b264f",
   "outputs": [
    {
     "name": "stdout",
     "output_type": "stream",
     "text": [
      "URL: http://127.0.0.1:5000/watson/c\n",
      "method: POST\n",
      "status: 200\n",
      "response: {'answer': '바로 전에 질문했던 내용은 \"이 채널에서 마약이 판매되는 지역은?\"이었고, 그에 대한 답변은 \"부산, 창원, 울산, 광주, 서울 및 수도권, 천안에서 마약이 판매되고 있는 것으로 보입니다.\"였습니다.'}\n"
     ]
    }
   ],
   "execution_count": 29
  },
  {
   "metadata": {
    "ExecuteTime": {
     "end_time": "2025-02-17T06:15:26.351745Z",
     "start_time": "2025-02-17T06:15:26.243261Z"
    }
   },
   "cell_type": "code",
   "source": [
    "api_test(\n",
    "    url=\"http://127.0.0.1:5000/watson/c\",\n",
    "    method=\"POST\",\n",
    "    data={\n",
    "        \"action\": \"reset\",\n",
    "        \"channel_ids\": [1890652954],\n",
    "        \"scope\": \"local\",\n",
    "    }\n",
    ")"
   ],
   "id": "212d671103a036c4",
   "outputs": [
    {
     "name": "stdout",
     "output_type": "stream",
     "text": [
      "URL: http://127.0.0.1:5000/watson/c\n",
      "method: POST\n",
      "status: 200\n",
      "response: {'success': True}\n"
     ]
    }
   ],
   "execution_count": 34
  }
 ],
 "metadata": {
  "kernelspec": {
   "display_name": "Python 3",
   "language": "python",
   "name": "python3"
  },
  "language_info": {
   "codemirror_mode": {
    "name": "ipython",
    "version": 2
   },
   "file_extension": ".py",
   "mimetype": "text/x-python",
   "name": "python",
   "nbconvert_exporter": "python",
   "pygments_lexer": "ipython2",
   "version": "2.7.6"
  }
 },
 "nbformat": 4,
 "nbformat_minor": 5
}
