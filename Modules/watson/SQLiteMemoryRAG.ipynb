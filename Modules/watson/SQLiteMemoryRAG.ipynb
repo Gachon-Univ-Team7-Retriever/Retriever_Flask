{
 "cells": [
  {
   "cell_type": "code",
   "id": "initial_id",
   "metadata": {
    "collapsed": true,
    "ExecuteTime": {
     "end_time": "2025-02-16T14:10:12.854878Z",
     "start_time": "2025-02-16T14:10:12.834040Z"
    }
   },
   "source": [
    "# API KEY를 환경변수로 관리하기 위한 설정 파일\n",
    "from dotenv import load_dotenv\n",
    "\n",
    "# API KEY 정보로드\n",
    "load_dotenv()\n"
   ],
   "outputs": [
    {
     "data": {
      "text/plain": [
       "True"
      ]
     },
     "execution_count": 1,
     "metadata": {},
     "output_type": "execute_result"
    }
   ],
   "execution_count": 1
  },
  {
   "metadata": {
    "ExecuteTime": {
     "end_time": "2025-02-16T14:10:12.900521Z",
     "start_time": "2025-02-16T14:10:12.884394Z"
    }
   },
   "cell_type": "code",
   "source": [
    "# LangSmith 추적을 설정합니다. https://smith.langchain.com\n",
    "# !pip install langchain-teddynote\n",
    "from langchain_teddynote import logging\n",
    "\n",
    "# 프로젝트 이름을 입력합니다.\n",
    "logging.langsmith(\"CH05-Memory\")\n"
   ],
   "id": "f666968f92408af",
   "outputs": [
    {
     "name": "stdout",
     "output_type": "stream",
     "text": [
      "LangSmith 추적을 시작합니다.\n",
      "[프로젝트명]\n",
      "CH05-Memory\n"
     ]
    }
   ],
   "execution_count": 2
  },
  {
   "metadata": {},
   "cell_type": "code",
   "source": [
    "from langchain_community.vectorstores import FAISS\n",
    "from langchain_text_splitters import RecursiveCharacterTextSplitter\n",
    "from langchain_openai import ChatOpenAI, OpenAIEmbeddings\n",
    "# 단계 1: 문서 로드(Load Documents)\n",
    "from langchain.document_loaders import MongodbLoader\n",
    "from server.db import DB\n",
    "from server.db import get_mongo_connection_string\n",
    "\n",
    "channel_id = 1890652954\n",
    "\n",
    "loader = MongodbLoader(\n",
    "    connection_string=get_mongo_connection_string(),\n",
    "    db_name=DB.NAME,\n",
    "    collection_name=DB.COLLECTION.CHANNEL.DATA,\n",
    "    filter_criteria={\"channelId\": channel_id}, # 데이터베이스에서 조회할 기준 (쿼리)\n",
    "    field_names=(\"text\",),\n",
    "    metadata_names=(\"id\", \"timestamp\", \"channelId\", \"views\", \"url\"), # 메타데이터로 지정할 필드 목록\n",
    ")\n",
    "\n",
    "import nest_asyncio\n",
    "nest_asyncio.apply()  # Jupyter Notebook에서 asyncio 실행 문제 해결\n",
    "\n",
    "docs = loader.load()\n",
    "\n",
    "# 단계 2: 문서 분할(Split Documents)\n",
    "text_splitter = RecursiveCharacterTextSplitter(chunk_size=1000, chunk_overlap=50)\n",
    "splitted_documents = text_splitter.split_documents(docs)\n",
    "\n",
    "# 단계 3: 임베딩(Embedding) 생성\n",
    "embedding = OpenAIEmbeddings()\n",
    "\n",
    "# 단계 4: DB 생성(Create DB) 및 저장\n",
    "# 벡터스토어를 생성한다.\n",
    "vectorstore = FAISS.from_documents(documents=splitted_documents, embedding=embedding)\n",
    "\n",
    "# 단계 5: 검색기(Retriever) 생성\n",
    "# 문서에 포함되어 있는 정보를 검색하고 생성한다.\n",
    "retriever = vectorstore.as_retriever(search_kwargs={\"k\": 6})"
   ],
   "id": "f8a1e7b678b1be66",
   "outputs": [],
   "execution_count": null
  },
  {
   "metadata": {
    "ExecuteTime": {
     "end_time": "2025-02-16T14:19:36.554590Z",
     "start_time": "2025-02-16T14:19:36.522083Z"
    }
   },
   "cell_type": "code",
   "source": [
    "from operator import itemgetter\n",
    "from langchain_core.runnables import RunnablePassthrough\n",
    "from langchain_core.prompts import ChatPromptTemplate, MessagesPlaceholder, PromptTemplate\n",
    "from langchain_community.chat_message_histories import ChatMessageHistory\n",
    "from langchain_core.chat_history import BaseChatMessageHistory\n",
    "from langchain_core.runnables.history import RunnableWithMessageHistory\n",
    "from langchain_openai import ChatOpenAI\n",
    "from langchain_core.output_parsers import StrOutputParser\n",
    "\n",
    "\n",
    "# 프롬프트 정의\n",
    "prompt = PromptTemplate.from_template(\n",
    "    \"\"\"You are an assistant responding to inquiries from an investigator trying to investigate a drug-selling channel. \n",
    "Below is chat data collected from a Telegram channel where drugs are being sold.\n",
    "Based on this chat data, answer questions about the transaction details of the channel.\n",
    "If you don't know the answer, just say that you don't know.\n",
    "Answer in Korean.\n",
    "\n",
    "#Previous Chat History:\n",
    "{chat_history}\n",
    "\n",
    "#Question: \n",
    "{question} \n",
    "\n",
    "#Context: \n",
    "{context} \n",
    "\n",
    "#Answer:\"\"\")\n",
    "\n",
    "# llm 생성\n",
    "llm = ChatOpenAI(model_name=\"gpt-4o\")\n",
    "\n",
    "# 일반 Chain 생성\n",
    "chain = (\n",
    "    {\n",
    "        \"context\": itemgetter(\"question\") | retriever,\n",
    "        \"question\": itemgetter(\"question\"),\n",
    "        \"chat_history\": itemgetter(\"chat_history\"),\n",
    "    }\n",
    "    | prompt\n",
    "    | llm\n",
    "    | StrOutputParser()\n",
    ")\n"
   ],
   "id": "5e00d8a911d6d08",
   "outputs": [],
   "execution_count": 16
  },
  {
   "metadata": {
    "ExecuteTime": {
     "end_time": "2025-02-16T14:19:40.739548Z",
     "start_time": "2025-02-16T14:19:38.690561Z"
    }
   },
   "cell_type": "code",
   "source": [
    "# 세션 기록을 저장할 딕셔너리\n",
    "store = {}\n",
    "\n",
    "\n",
    "# 세션 ID를 기반으로 세션 기록을 가져오는 함수\n",
    "def get_session_history(session_ids):\n",
    "    print(f\"[대화 세션ID]: {session_ids}\")\n",
    "    if session_ids not in store:  # 세션 ID가 store에 없는 경우\n",
    "        # 새로운 ChatMessageHistory 객체를 생성하여 store에 저장\n",
    "        store[session_ids] = ChatMessageHistory()\n",
    "    return store[session_ids]  # 해당 세션 ID에 대한 세션 기록 반환\n",
    "\n",
    "chain_with_history = RunnableWithMessageHistory(\n",
    "    chain,\n",
    "    get_session_history,  # 세션 기록을 가져오는 함수\n",
    "    input_messages_key=\"question\",  # 사용자의 질문이 템플릿 변수에 들어갈 key\n",
    "    history_messages_key=\"chat_history\",  # 기록 메시지의 키\n",
    ")\n",
    "\n",
    "chain_with_history.invoke(\n",
    "    # 질문 입력\n",
    "    {\"question\": \"이 채널에서 판매되는 마약의 지역을 말해줘.\"},\n",
    "    # 세션 ID 기준으로 대화를 기록합니다.\n",
    "    config={\"configurable\": {\"session_id\": \"abc123\"}},\n",
    ")"
   ],
   "id": "b4ac556acb49ef20",
   "outputs": [
    {
     "name": "stdout",
     "output_type": "stream",
     "text": [
      "[대화 세션ID]: abc123\n"
     ]
    },
    {
     "data": {
      "text/plain": [
       "'이 채널에서 판매되는 마약의 종류는 인디카 떨, 아프간 쿠쉬, 멕시코산 퓨어 원석 케타민, 아이스, 떨액, S케이, 브액입니다.'"
      ]
     },
     "execution_count": 17,
     "metadata": {},
     "output_type": "execute_result"
    }
   ],
   "execution_count": 17
  },
  {
   "metadata": {
    "ExecuteTime": {
     "end_time": "2025-02-16T14:21:14.213515Z",
     "start_time": "2025-02-16T14:21:11.581154Z"
    }
   },
   "cell_type": "code",
   "source": [
    "chain_with_history.invoke(\n",
    "    # 질문 입력\n",
    "    {\"question\": \"내가 이전에 물어본 내용과 그 답변이 뭐였지?\", \"context\": retriever},\n",
    "    # 세션 ID 기준으로 대화를 기록합니다.\n",
    "    config={\"configurable\": {\"session_id\": \"abc123\"}},\n",
    ")"
   ],
   "id": "c70bef872c08ea2a",
   "outputs": [
    {
     "name": "stdout",
     "output_type": "stream",
     "text": [
      "[대화 세션ID]: abc123\n"
     ]
    },
    {
     "data": {
      "text/plain": [
       "'당신이 이전에 물어본 내용과 그 답변은 다음과 같습니다.\\n\\n1. 질문: 이 채널에서 판매되는 마약의 종류를 말해줘.\\n   답변: 이 채널에서 판매되는 마약의 종류는 인디카 떨, 아프간 쿠쉬, 멕시코산 퓨어 원석 케타민, 아이스, 떨액, S케이, 브액입니다.\\n\\n2. 질문: 이 채널에서 판매되는 마약의 지역을 말해줘.\\n   답변: 이 채널에서 판매되는 마약의 지역은 부산, 창원, 울산, 서울을 비롯한 수도권, 광주, 천안 등입니다.'"
      ]
     },
     "execution_count": 19,
     "metadata": {},
     "output_type": "execute_result"
    }
   ],
   "execution_count": 19
  },
  {
   "metadata": {},
   "cell_type": "code",
   "outputs": [],
   "execution_count": null,
   "source": "# TODO: https://wikidocs.net/233813 를 참고해서 SQLite에 대화내역 오프라인 저장하고 불러오기",
   "id": "315fdf336a67cdea"
  }
 ],
 "metadata": {
  "kernelspec": {
   "display_name": "Python 3",
   "language": "python",
   "name": "python3"
  },
  "language_info": {
   "codemirror_mode": {
    "name": "ipython",
    "version": 2
   },
   "file_extension": ".py",
   "mimetype": "text/x-python",
   "name": "python",
   "nbconvert_exporter": "python",
   "pygments_lexer": "ipython2",
   "version": "2.7.6"
  }
 },
 "nbformat": 4,
 "nbformat_minor": 5
}
