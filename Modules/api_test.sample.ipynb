{
 "cells": [
  {
   "metadata": {
    "ExecuteTime": {
     "end_time": "2025-03-07T09:43:14.407388Z",
     "start_time": "2025-03-07T09:41:30.731783Z"
    }
   },
   "cell_type": "code",
   "source": [
    "from utils import api_test\n",
    "api_test(\n",
    "    url=\"http://127.0.0.1:5000/telegram/channel/scrape\",\n",
    "    method=\"POST\",\n",
    "    data={\n",
    "        \"channel_key\": \"frozentalk1\"\n",
    "    }\n",
    ")"
   ],
   "id": "67e0b0a7779cc52d",
   "outputs": [
    {
     "name": "stdout",
     "output_type": "stream",
     "text": [
      "status: 200\n",
      "response:\n",
      "\tmessage: Archived all chats for the channel(Channel key: frozentalk1) in MongoDB - DB: retriever-jisung, collection: channel_data\n",
      "\tstatus: success\n"
     ]
    }
   ],
   "execution_count": 8
  },
  {
   "metadata": {
    "ExecuteTime": {
     "end_time": "2025-03-13T08:04:12.869798Z",
     "start_time": "2025-03-13T08:04:04.721035Z"
    }
   },
   "cell_type": "code",
   "source": [
    "from utils import api_test\n",
    "api_test(\n",
    "    url=\"http://127.0.0.1:5000/watson/c\",\n",
    "    method=\"POST\",\n",
    "    data={\n",
    "        \"action\": \"ask\",\n",
    "        \"channel_ids\": [1334212632],\n",
    "        \"scope\": \"local\",\n",
    "        \"question\": \"이 채널에서 거래하는 마약류는 주로 뭐가 있어?\",\n",
    "    }\n",
    ")"
   ],
   "id": "3b18d1157128ce25",
   "outputs": [
    {
     "name": "stdout",
     "output_type": "stream",
     "text": [
      "status: 200\n",
      "response:\n",
      "\tanswer: 이 채널에서 거래하는 마약류는 주로 \"우라이\"와 \"랏슈\"입니다. \n",
      "\n",
      "**Source**\n",
      "- [https://t.me/frozentalk1/138](https://t.me/frozentalk1/138) - 우라이&랏슈 패키지, 랏슈10ml+우라이 .5G = 65만원\n",
      "- [https://t.me/frozentalk1/212](https://t.me/frozentalk1/212) - 대만 신상술, 새하얀 덩어리\n"
     ]
    }
   ],
   "execution_count": 6
  },
  {
   "metadata": {
    "ExecuteTime": {
     "end_time": "2025-03-07T09:44:50.807251Z",
     "start_time": "2025-03-07T09:44:43.784797Z"
    }
   },
   "cell_type": "code",
   "source": [
    "from utils import api_test\n",
    "api_test(\n",
    "    url=\"http://127.0.0.1:5000/watson/c\",\n",
    "    method=\"POST\",\n",
    "    data={\n",
    "        \"action\": \"ask\",\n",
    "        \"channel_ids\": [1334212632],\n",
    "        \"scope\": \"local\",\n",
    "        \"question\": \"내가 바로 전에 질문했던 내용과 그에 대한 답변은?\",\n",
    "    }\n",
    ")"
   ],
   "id": "4b3617a1e4b264f",
   "outputs": [
    {
     "name": "stdout",
     "output_type": "stream",
     "text": [
      "status: 200\n",
      "response:\n",
      "\tanswer: 바로 전에 질문하신 내용은 \"이 채널에서 마약이 판매되는 지역은?\"이었고, 그에 대한 답변은 다음과 같았습니다:\n",
      "\n",
      "이 채널에서 마약이 판매되는 지역은 다음과 같습니다:\n",
      "\n",
      "- 서울 및 수도권\n",
      "- 부산\n",
      "- 인천\n",
      "- 수원\n",
      "\n",
      "**Source**\n",
      "- [https://t.me/frozentalk1/260](https://t.me/frozentalk1/260) - 서울 및 수도권, 부산만 가능\n",
      "- [https://t.me/frozentalk1/64](https://t.me/frozentalk1/64) - 부산지역 기존 해운대외에 부산역 및 서면 추가됐습니다. 인천지역 좌표 두군데로 늘었습니다\n",
      "- [https://t.me/frozentalk1/102](https://t.me/frozentalk1/102) - 오늘부터 수원을 비롯한 전지역 우라이 아이스 구매 가능합니다\n"
     ]
    }
   ],
   "execution_count": 10
  },
  {
   "metadata": {
    "ExecuteTime": {
     "end_time": "2025-02-22T14:10:50.969904Z",
     "start_time": "2025-02-22T14:10:50.911452Z"
    }
   },
   "cell_type": "code",
   "source": [
    "from utils import api_test\n",
    "api_test(\n",
    "    url=\"http://127.0.0.1:5000/watson/c\",\n",
    "    method=\"POST\",\n",
    "    data={\n",
    "        \"action\": \"reset\",\n",
    "        \"channel_ids\": [1890652954],\n",
    "        \"scope\": \"local\",\n",
    "    }\n",
    ")"
   ],
   "id": "212d671103a036c4",
   "outputs": [
    {
     "name": "stdout",
     "output_type": "stream",
     "text": [
      "status: 200\n",
      "response: {'success': True}\n"
     ]
    }
   ],
   "execution_count": 6
  },
  {
   "metadata": {
    "ExecuteTime": {
     "end_time": "2025-03-13T07:03:14.937780Z",
     "start_time": "2025-03-13T07:03:14.662858Z"
    }
   },
   "cell_type": "code",
   "source": [
    "from utils import api_test\n",
    "api_test(\n",
    "    url=\"http://34.22.88.227:5000/telegram/channel/info\",\n",
    "    method=\"POST\",\n",
    "    data={\n",
    "        \"channel_key\": \"Hyde_Sandbox2\",\n",
    "    }\n",
    ")"
   ],
   "id": "5793bd05a66a195d",
   "outputs": [
    {
     "name": "stdout",
     "output_type": "stream",
     "text": [
      "status: 200\n",
      "response:\n",
      "\tdiscoveredAt: Thu, 13 Mar 2025 07:03:15 GMT\n",
      "\tid: 2384170784\n",
      "\trestricted: False\n",
      "\tstartedAt: Thu, 16 Jan 2025 09:29:51 GMT\n",
      "\ttitle: Hyde's Sandbox 2\n",
      "\tupdatedAt: Thu, 13 Mar 2025 07:03:15 GMT\n",
      "\tusername: Hyde_Sandbox2\n"
     ]
    }
   ],
   "execution_count": 4
  }
 ],
 "metadata": {
  "kernelspec": {
   "display_name": "Python 3",
   "language": "python",
   "name": "python3"
  },
  "language_info": {
   "codemirror_mode": {
    "name": "ipython",
    "version": 2
   },
   "file_extension": ".py",
   "mimetype": "text/x-python",
   "name": "python",
   "nbconvert_exporter": "python",
   "pygments_lexer": "ipython2",
   "version": "2.7.6"
  }
 },
 "nbformat": 4,
 "nbformat_minor": 5
}
